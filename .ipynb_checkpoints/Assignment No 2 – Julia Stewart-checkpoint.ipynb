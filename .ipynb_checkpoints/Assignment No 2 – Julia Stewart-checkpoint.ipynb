{
 "cells": [
  {
   "cell_type": "markdown",
   "id": "30f41b61-23ff-4235-96f3-51d5374e6862",
   "metadata": {},
   "source": [
    "# Lab Assignment 2 – Julia Stewart\n",
    "## Student Number: **200017610**\n",
    "### *https://github.com/JuliaStewart111/PY4SA23_Assignment.git*"
   ]
  },
  {
   "cell_type": "markdown",
   "id": "2869191d-69e2-43c2-8945-bb390df9535c",
   "metadata": {
    "tags": []
   },
   "source": [
    "## **Task 1:** If... Else statement Divisible by Three"
   ]
  },
  {
   "cell_type": "markdown",
   "id": "c3fa46e6-f27b-4300-ace2-42141cb89e5a",
   "metadata": {},
   "source": [
    "##### This function tests whether a value (number) is divisible by three. **\"YOUR VALUE is divisible by 3\"** is printed if the value (n) is divisible by three. **\"YOUR VALUE is not divisible by three\"** is printed if the value (n) is not divisible by three. The statement is tested with the numeric value 6, as seen below. With the printed value replaced with the n value being tested number.\n"
   ]
  },
  {
   "cell_type": "code",
   "execution_count": 6,
   "id": "2074e875-caa5-4819-9f69-0c33920c6593",
   "metadata": {},
   "outputs": [
    {
     "name": "stdout",
     "output_type": "stream",
     "text": [
      "6 is divisible by three\n"
     ]
    }
   ],
   "source": [
    "n = 6\n",
    "\n",
    "if n % 3 == 0:\n",
    "    print(n, \"is divisible by three\")\n",
    "\n",
    "else:\n",
    "    print(n, \"is not divisible by three\")\n"
   ]
  },
  {
   "cell_type": "markdown",
   "id": "583b5920-d7d1-4b76-a238-96a2ec9772f5",
   "metadata": {},
   "source": [
    "## **Task 2:** If...Else statement that will test whether a type of fruit, represented as a text string,\n",
    "\n",
    "##### This function will show a list of acceptable fruits (apple, orange, pear, kiwi, or strawberry). If the fruit is on the list, this will be seen **\"YOUR FRUIT is acceptable.\"** If the fruit is not present then this will be seen **\" YOUR FRUIT is not acceptable.\"** The fruit tested will replace the \"YOUR FRUIT\""
   ]
  },
  {
   "cell_type": "code",
   "execution_count": 14,
   "id": "6cec8e66-fb8a-4bdd-a4a4-20e17cb39778",
   "metadata": {},
   "outputs": [
    {
     "name": "stdout",
     "output_type": "stream",
     "text": [
      "Kiwi is acceptable\n"
     ]
    }
   ],
   "source": [
    "Fruit = [\n",
    "    'apple',\n",
    "    'orange',\n",
    "    'blueberry',\n",
    "    'strawberry',\n",
    "    'Kiwi'\n",
    "]\n",
    "\n",
    "i= \"Kiwi\" \n",
    "if i in Fruit:\n",
    "    print(i, \"is acceptable\")\n",
    "else:\n",
    "    print(i, \"is not acceptable\") \n",
    "\n"
   ]
  },
  {
   "cell_type": "markdown",
   "id": "6297af49-4da7-4333-9f1b-76e170ed92ab",
   "metadata": {},
   "source": [
    "## **Task Three:** Function to calculate distance between two coordinates using haversine formula."
   ]
  },
  {
   "cell_type": "code",
   "execution_count": 30,
   "id": "1fa84233-86f8-474f-a0c2-17c058d2d64b",
   "metadata": {},
   "outputs": [
    {
     "name": "stdout",
     "output_type": "stream",
     "text": [
      "a= 0.23763260565995395\n",
      "c = 1.0183927930031569\n",
      "Result:  6488.180484223112\n"
     ]
    }
   ],
   "source": [
    "##T3: Create a function to calculate the distance between two coordinates using the haversine\n",
    "##formula. Write the following formula where the input parameters are a pair of coordinates as two\n",
    "##lists.\n",
    "#two lists of coordinates \n",
    "from math import sin, cos, atan2, radians\n",
    "A= [radians(55.9533), radians(3.1883)] \n",
    "B= [radians(57.1499), radians(2.0938)]\n",
    "\n",
    "def functa(A,B):\n",
    "    return sin(B[0] - A[0]/2)**2 + cos(A[0]) * cos(B[0]) * sin(B[1] - A[1]/2)**2\n",
    "a = functa(A,B)\n",
    "print(\"a=\", functa(A,B))\n",
    "\n",
    "def functc(a):\n",
    "    return 2 * atan2(a**0.5, (1 - a)**0.5)\n",
    "c= functc(a)\n",
    "print(\"c =\", functc(a))\n",
    "\n",
    "R = 6371\n",
    "Distance = R * c\n",
    "print(\"Result: \", Distance)"
   ]
  },
  {
   "cell_type": "markdown",
   "id": "8c789426-759d-4e24-9938-c5e4b6168cbd",
   "metadata": {},
   "source": [
    "## Pandas and NumPy Part 2\n",
    "### **Question 1**\n",
    "#### How many trees are of the Quercus or Acer genus? "
   ]
  },
  {
   "cell_type": "code",
   "execution_count": 15,
   "id": "35b8a42a-604a-4484-97a1-a0f2f1e614be",
   "metadata": {
    "collapsed": true,
    "jupyter": {
     "outputs_hidden": true
    },
    "tags": []
   },
   "outputs": [
    {
     "data": {
      "text/html": [
       "<div>\n",
       "<style scoped>\n",
       "    .dataframe tbody tr th:only-of-type {\n",
       "        vertical-align: middle;\n",
       "    }\n",
       "\n",
       "    .dataframe tbody tr th {\n",
       "        vertical-align: top;\n",
       "    }\n",
       "\n",
       "    .dataframe thead th {\n",
       "        text-align: right;\n",
       "    }\n",
       "</style>\n",
       "<table border=\"1\" class=\"dataframe\">\n",
       "  <thead>\n",
       "    <tr style=\"text-align: right;\">\n",
       "      <th></th>\n",
       "      <th>fid</th>\n",
       "      <th>OBJECTID</th>\n",
       "      <th>Inventory_</th>\n",
       "      <th>Species</th>\n",
       "      <th>DBH</th>\n",
       "      <th>Condition</th>\n",
       "      <th>TreeHeight</th>\n",
       "      <th>CrownWidth</th>\n",
       "      <th>CrownWid_1</th>\n",
       "      <th>CollectedB</th>\n",
       "      <th>...</th>\n",
       "      <th>Genus</th>\n",
       "      <th>Common_nam</th>\n",
       "      <th>Genus_spec</th>\n",
       "      <th>Functional</th>\n",
       "      <th>Size</th>\n",
       "      <th>Native</th>\n",
       "      <th>Edible</th>\n",
       "      <th>Nuisance</th>\n",
       "      <th>Origin</th>\n",
       "      <th>Species_fa</th>\n",
       "    </tr>\n",
       "  </thead>\n",
       "  <tbody>\n",
       "    <tr>\n",
       "      <th>0</th>\n",
       "      <td>1</td>\n",
       "      <td>426</td>\n",
       "      <td>2017/05/09</td>\n",
       "      <td>PSME</td>\n",
       "      <td>37.4</td>\n",
       "      <td>Fair</td>\n",
       "      <td>105.0</td>\n",
       "      <td>44.0</td>\n",
       "      <td>57.0</td>\n",
       "      <td>staff</td>\n",
       "      <td>...</td>\n",
       "      <td>Pseudotsuga</td>\n",
       "      <td>Douglas-fir</td>\n",
       "      <td>Pseudotsuga menziesii</td>\n",
       "      <td>CE</td>\n",
       "      <td>L</td>\n",
       "      <td>Yes</td>\n",
       "      <td>NaN</td>\n",
       "      <td>NaN</td>\n",
       "      <td>North America - from British Columbia south to...</td>\n",
       "      <td>Bracts on cones look like a mouse's feet and t...</td>\n",
       "    </tr>\n",
       "    <tr>\n",
       "      <th>1</th>\n",
       "      <td>2</td>\n",
       "      <td>427</td>\n",
       "      <td>2017/05/09</td>\n",
       "      <td>PSME</td>\n",
       "      <td>32.5</td>\n",
       "      <td>Fair</td>\n",
       "      <td>94.0</td>\n",
       "      <td>49.0</td>\n",
       "      <td>45.0</td>\n",
       "      <td>staff</td>\n",
       "      <td>...</td>\n",
       "      <td>Pseudotsuga</td>\n",
       "      <td>Douglas-fir</td>\n",
       "      <td>Pseudotsuga menziesii</td>\n",
       "      <td>CE</td>\n",
       "      <td>L</td>\n",
       "      <td>Yes</td>\n",
       "      <td>NaN</td>\n",
       "      <td>NaN</td>\n",
       "      <td>North America - from British Columbia south to...</td>\n",
       "      <td>Bracts on cones look like a mouse's feet and t...</td>\n",
       "    </tr>\n",
       "    <tr>\n",
       "      <th>2</th>\n",
       "      <td>3</td>\n",
       "      <td>428</td>\n",
       "      <td>2017/05/09</td>\n",
       "      <td>CRLA</td>\n",
       "      <td>9.7</td>\n",
       "      <td>Fair</td>\n",
       "      <td>23.0</td>\n",
       "      <td>28.0</td>\n",
       "      <td>27.0</td>\n",
       "      <td>staff</td>\n",
       "      <td>...</td>\n",
       "      <td>Crataegus</td>\n",
       "      <td>Lavalle hawthorn</td>\n",
       "      <td>Crataegus x lavalleei</td>\n",
       "      <td>BD</td>\n",
       "      <td>S</td>\n",
       "      <td>No</td>\n",
       "      <td>NaN</td>\n",
       "      <td>NaN</td>\n",
       "      <td>North America - a hybrid between a Mexican and...</td>\n",
       "      <td>Like most hawthorns, the tree has stout thorns...</td>\n",
       "    </tr>\n",
       "    <tr>\n",
       "      <th>3</th>\n",
       "      <td>4</td>\n",
       "      <td>429</td>\n",
       "      <td>2017/05/09</td>\n",
       "      <td>QURU</td>\n",
       "      <td>10.3</td>\n",
       "      <td>Poor</td>\n",
       "      <td>28.0</td>\n",
       "      <td>38.0</td>\n",
       "      <td>31.0</td>\n",
       "      <td>staff</td>\n",
       "      <td>...</td>\n",
       "      <td>Quercus</td>\n",
       "      <td>northern red oak</td>\n",
       "      <td>Quercus rubra</td>\n",
       "      <td>BD</td>\n",
       "      <td>L</td>\n",
       "      <td>No</td>\n",
       "      <td>NaN</td>\n",
       "      <td>NaN</td>\n",
       "      <td>North America - eastern Canada and eastern USA...</td>\n",
       "      <td>Acorns take two years to mature and are an imp...</td>\n",
       "    </tr>\n",
       "    <tr>\n",
       "      <th>4</th>\n",
       "      <td>5</td>\n",
       "      <td>430</td>\n",
       "      <td>2017/05/09</td>\n",
       "      <td>PSME</td>\n",
       "      <td>33.2</td>\n",
       "      <td>Fair</td>\n",
       "      <td>102.0</td>\n",
       "      <td>43.0</td>\n",
       "      <td>44.0</td>\n",
       "      <td>staff</td>\n",
       "      <td>...</td>\n",
       "      <td>Pseudotsuga</td>\n",
       "      <td>Douglas-fir</td>\n",
       "      <td>Pseudotsuga menziesii</td>\n",
       "      <td>CE</td>\n",
       "      <td>L</td>\n",
       "      <td>Yes</td>\n",
       "      <td>NaN</td>\n",
       "      <td>NaN</td>\n",
       "      <td>North America - from British Columbia south to...</td>\n",
       "      <td>Bracts on cones look like a mouse's feet and t...</td>\n",
       "    </tr>\n",
       "  </tbody>\n",
       "</table>\n",
       "<p>5 rows × 40 columns</p>\n",
       "</div>"
      ],
      "text/plain": [
       "   fid  OBJECTID  Inventory_ Species   DBH Condition  TreeHeight  CrownWidth  \\\n",
       "0    1       426  2017/05/09    PSME  37.4      Fair       105.0        44.0   \n",
       "1    2       427  2017/05/09    PSME  32.5      Fair        94.0        49.0   \n",
       "2    3       428  2017/05/09    CRLA   9.7      Fair        23.0        28.0   \n",
       "3    4       429  2017/05/09    QURU  10.3      Poor        28.0        38.0   \n",
       "4    5       430  2017/05/09    PSME  33.2      Fair       102.0        43.0   \n",
       "\n",
       "   CrownWid_1 CollectedB  ...        Genus        Common_nam  \\\n",
       "0        57.0      staff  ...  Pseudotsuga       Douglas-fir   \n",
       "1        45.0      staff  ...  Pseudotsuga       Douglas-fir   \n",
       "2        27.0      staff  ...    Crataegus  Lavalle hawthorn   \n",
       "3        31.0      staff  ...      Quercus  northern red oak   \n",
       "4        44.0      staff  ...  Pseudotsuga       Douglas-fir   \n",
       "\n",
       "              Genus_spec Functional Size Native Edible Nuisance  \\\n",
       "0  Pseudotsuga menziesii         CE    L    Yes    NaN      NaN   \n",
       "1  Pseudotsuga menziesii         CE    L    Yes    NaN      NaN   \n",
       "2  Crataegus x lavalleei         BD    S     No    NaN      NaN   \n",
       "3          Quercus rubra         BD    L     No    NaN      NaN   \n",
       "4  Pseudotsuga menziesii         CE    L    Yes    NaN      NaN   \n",
       "\n",
       "                                              Origin  \\\n",
       "0  North America - from British Columbia south to...   \n",
       "1  North America - from British Columbia south to...   \n",
       "2  North America - a hybrid between a Mexican and...   \n",
       "3  North America - eastern Canada and eastern USA...   \n",
       "4  North America - from British Columbia south to...   \n",
       "\n",
       "                                          Species_fa  \n",
       "0  Bracts on cones look like a mouse's feet and t...  \n",
       "1  Bracts on cones look like a mouse's feet and t...  \n",
       "2  Like most hawthorns, the tree has stout thorns...  \n",
       "3  Acorns take two years to mature and are an imp...  \n",
       "4  Bracts on cones look like a mouse's feet and t...  \n",
       "\n",
       "[5 rows x 40 columns]"
      ]
     },
     "execution_count": 15,
     "metadata": {},
     "output_type": "execute_result"
    }
   ],
   "source": [
    "## Import appropriate packages\n",
    "import pandas as pd\n",
    "import numpy as np\n",
    "file = pd.read_csv('data\\portland_park_trees.csv') ##add the required data set\n",
    "file.head()"
   ]
  },
  {
   "cell_type": "code",
   "execution_count": 55,
   "id": "cff40ed5-9576-484c-b2ed-9e360f99a2d2",
   "metadata": {},
   "outputs": [
    {
     "data": {
      "text/plain": [
       "5675"
      ]
     },
     "execution_count": 55,
     "metadata": {},
     "output_type": "execute_result"
    }
   ],
   "source": [
    "# Select the two required genus \n",
    "#Calculate number of trees in those genus\n",
    "df = pd.read_csv('data\\portland_park_trees.csv')\n",
    "trees = ['Quercus', 'Acer']\n",
    "df['Genus'].isin(trees).sum()\n",
    "#5675 (total amount of trees within the Quercus and Acer category)"
   ]
  },
  {
   "cell_type": "markdown",
   "id": "62d7a40c-d516-47cd-b038-181d91484544",
   "metadata": {},
   "source": [
    "### Question 2\n",
    "#### How many trees are of the Quercus or Acer genus and have a DBH larger than 50 inches?"
   ]
  },
  {
   "cell_type": "code",
   "execution_count": 87,
   "id": "f4ce9a77-b339-468a-b8a4-c1e9c7f73988",
   "metadata": {},
   "outputs": [
    {
     "name": "stdout",
     "output_type": "stream",
     "text": [
      "Number of Quercus and Acer trees with DBH > 50 is 124\n"
     ]
    }
   ],
   "source": [
    "df = pd.read_csv('data\\portland_park_trees.csv')\n",
    "QA = ['Quercus', 'Acer']\n",
    "fifty_df = df.loc[(df.DBH >50)]\n",
    "print(\"Number of Quercus and Acer trees with DBH > 50 is\", fifty_df['Genus'].isin(QA).sum())"
   ]
  },
  {
   "cell_type": "markdown",
   "id": "a24b39b0-ea6a-449b-9e93-75f3cbadde79",
   "metadata": {},
   "source": [
    "## Question 3"
   ]
  },
  {
   "cell_type": "markdown",
   "id": "fdc387b1-ea49-4e41-b577-6b24aaf1ad9f",
   "metadata": {},
   "source": [
    "#### Which genus has the highest mean DBH of the following genera: Quercus, Acer, or Fraxinus?"
   ]
  },
  {
   "cell_type": "code",
   "execution_count": 105,
   "id": "455ccb52-1281-4b36-8068-a9c4fe3223e8",
   "metadata": {},
   "outputs": [
    {
     "name": "stdout",
     "output_type": "stream",
     "text": [
      "Acer mean DBH: 18.419085331846066 inches\n",
      "Quercus mean DBH: 23.56823839157492 inches\n",
      "Fraxinus mean DBH: 11.033609693877551 inches\n",
      "Quercusmean mean DBH is highest: 23.56823839157492 inches\n"
     ]
    }
   ],
   "source": [
    "Atree = ['Acer']\n",
    "Acermean = df[\"DBH\"][df['Genus'].isin(Atree)].mean()\n",
    "print (\"Acer mean DBH:\", Acermean, \"inches\")\n",
    "\n",
    "Qtree = ['Quercus']\n",
    "Quercusmean = df[\"DBH\"][df['Genus'].isin(Qtree)].mean()\n",
    "print (\"Quercus mean DBH:\", Quercusmean, \"inches\")\n",
    "\n",
    "Ftree = ['Fraxinus']\n",
    "Fraxinusmean = df[\"DBH\"][df['Genus'].isin(Ftree)].mean()\n",
    "print (\"Fraxinus mean DBH:\", Fraxinusmean, \"inches\")\n",
    "\n",
    "Means = [Quercusmean, Acermean, Fraxinusmean]\n",
    "\n",
    "if max(Means) == Quercusmean:\n",
    "    print (\"Quercusmean mean DBH is highest:\",max(Means), \"inches\")\n",
    "    \n",
    "else:\n",
    "    if max(Means) == Fraxinusmean:\n",
    "        print (\"Fraxinusmean mean DBH is highest:\",max(Means))\n",
    "    \n",
    "    else:\n",
    "        print (\"Acermean DBH is highest:\",max(means))"
   ]
  },
  {
   "cell_type": "markdown",
   "id": "836abf25-9eb5-4b71-8db7-4d51b2a2ba17",
   "metadata": {},
   "source": [
    "## Question 4"
   ]
  },
  {
   "cell_type": "markdown",
   "id": "b0b65566-25d1-4854-a3df-aab0713b0d3e",
   "metadata": {},
   "source": [
    "#### How many different species of trees are recorded in the Acer genus? "
   ]
  },
  {
   "cell_type": "code",
   "execution_count": 114,
   "id": "891639a4-810e-41f9-8f49-75555994fb31",
   "metadata": {},
   "outputs": [
    {
     "name": "stdout",
     "output_type": "stream",
     "text": [
      "There are  20 species in the Acer genus\n"
     ]
    }
   ],
   "source": [
    "Acer_df = df.loc[(df['Genus'] == 'Acer')]\n",
    "Acer_df['Species'].nunique()\n",
    "print (\"There are \", Acer_df['Species'].nunique(), \"species in the Acer genus\")"
   ]
  },
  {
   "cell_type": "code",
   "execution_count": null,
   "id": "10c33b3d-4124-44fd-9f96-30aedb613c52",
   "metadata": {},
   "outputs": [],
   "source": []
  }
 ],
 "metadata": {
  "kernelspec": {
   "display_name": "Python 3 (ipykernel)",
   "language": "python",
   "name": "python3"
  },
  "language_info": {
   "codemirror_mode": {
    "name": "ipython",
    "version": 3
   },
   "file_extension": ".py",
   "mimetype": "text/x-python",
   "name": "python",
   "nbconvert_exporter": "python",
   "pygments_lexer": "ipython3",
   "version": "3.10.9"
  }
 },
 "nbformat": 4,
 "nbformat_minor": 5
}
